{
 "cells": [
  {
   "cell_type": "code",
   "execution_count": 4,
   "id": "eba10cb6-dbfb-43a2-a472-127e39c147ec",
   "metadata": {},
   "outputs": [
    {
     "name": "stdout",
     "output_type": "stream",
     "text": [
      "Archivo guardado: C:\\Users\\ISIL\\mydatabase\\_general.csv\n",
      "Archivo guardado: C:\\Users\\ISIL\\mydatabase\\_Unidades.csv\n",
      "Archivo guardado: C:\\Users\\ISIL\\mydatabase\\_contenidos.csv\n",
      "Archivo guardado: C:\\Users\\ISIL\\mydatabase\\_CURSOS_argos.csv\n"
     ]
    }
   ],
   "source": [
    "import pandas as pd\n",
    "import os\n",
    "\n",
    "# Ruta del archivo de Excel\n",
    "excel_file = r\"G:\\Mi unidad\\_MAPACOMPETENCIAS\\FINAL\\COMPONENTES_SILABO_FINAL.xlsx\"\n",
    "\n",
    "# Nombres de las hojas a convertir\n",
    "sheet_names = [\"_general\", \"_Unidades\", \"_contenidos\", \"_CURSOS_argos\"]\n",
    "\n",
    "# Carpeta de salida para los CSV (directorio del script)\n",
    "output_folder = os.getcwd()\n",
    "\n",
    "# Iterar sobre cada hoja y convertirla a CSV\n",
    "for sheet in sheet_names:\n",
    "    try:\n",
    "        df = pd.read_excel(excel_file, sheet_name=sheet)\n",
    "        output_file = os.path.join(output_folder, f\"{sheet}.csv\")\n",
    "        df.to_csv(output_file, index=False, encoding='utf-8', sep=',')\n",
    "        print(f\"Archivo guardado: {output_file}\")\n",
    "    except Exception as e:\n",
    "        print(f\"Error al procesar la hoja {sheet}: {e}\")\n"
   ]
  },
  {
   "cell_type": "code",
   "execution_count": null,
   "id": "4b3f72a4-24b7-4895-bb44-5b0b5e1a1bdc",
   "metadata": {},
   "outputs": [],
   "source": []
  }
 ],
 "metadata": {
  "kernelspec": {
   "display_name": "Python 3 (ipykernel)",
   "language": "python",
   "name": "python3"
  },
  "language_info": {
   "codemirror_mode": {
    "name": "ipython",
    "version": 3
   },
   "file_extension": ".py",
   "mimetype": "text/x-python",
   "name": "python",
   "nbconvert_exporter": "python",
   "pygments_lexer": "ipython3",
   "version": "3.12.8"
  }
 },
 "nbformat": 4,
 "nbformat_minor": 5
}
